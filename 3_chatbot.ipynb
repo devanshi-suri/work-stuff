{
 "cells": [
  {
   "cell_type": "code",
   "execution_count": 1,
   "id": "88e5c476",
   "metadata": {},
   "outputs": [
    {
     "name": "stderr",
     "output_type": "stream",
     "text": [
      "python-dotenv could not parse statement starting at line 1\n"
     ]
    },
    {
     "data": {
      "text/plain": [
       "False"
      ]
     },
     "execution_count": 1,
     "metadata": {},
     "output_type": "execute_result"
    }
   ],
   "source": [
    "from dotenv import load_dotenv\n",
    "load_dotenv()"
   ]
  },
  {
   "cell_type": "code",
   "execution_count": 14,
   "id": "01ea3222",
   "metadata": {},
   "outputs": [],
   "source": [
    "from langchain.tools import tool\n",
    "from langchain.chat_models import init_chat_model\n",
    "from typing import TypedDict, Annotated\n",
    "from langgraph.graph import StateGraph, START, END\n",
    "from langgraph.graph.message import add_messages"
   ]
  },
  {
   "cell_type": "code",
   "execution_count": 3,
   "id": "3daff662",
   "metadata": {},
   "outputs": [],
   "source": [
    "llm = init_chat_model(\"ollama:llama3.2:latest\", temperature=0)"
   ]
  },
  {
   "cell_type": "code",
   "execution_count": null,
   "id": "c7ebc5ef",
   "metadata": {},
   "outputs": [],
   "source": [
    "class State(TypedDict):\n",
    "    messages: Annotated[list, add_messages] # add_messages is a reducer\n",
    "    \n",
    "\n",
    "def chatbot(state: State) -> str:\n",
    "    return {'messages':[llm.invoke( state['messages'])]}\n",
    "\n",
    "builder = StateGraph(State)\n",
    "builder.add_node('chatbot_node', chatbot)\n",
    "builder.add_edge(START, 'chatbot_node')\n",
    "builder.add_edge('chatbot_node', END)\n",
    "\n",
    "graph = builder.compile()"
   ]
  },
  {
   "cell_type": "code",
   "execution_count": 19,
   "id": "971bcb05",
   "metadata": {},
   "outputs": [
    {
     "data": {
      "text/plain": [
       "'Neil.'"
      ]
     },
     "execution_count": 19,
     "metadata": {},
     "output_type": "execute_result"
    }
   ],
   "source": [
    "message = {'role':'user', 'content':'Who walked on moon for the first time? Give me their first name.'}\n",
    "response = graph.invoke({'messages':[message]})\n",
    "res = response[\"messages\"]\n",
    "res[-1].content"
   ]
  },
  {
   "cell_type": "code",
   "execution_count": 21,
   "id": "ae4db046",
   "metadata": {},
   "outputs": [
    {
     "name": "stdout",
     "output_type": "stream",
     "text": [
      "Bot:  Here are some popular and unique boy's name suggestions:\n",
      "\n",
      "**Popular Boy Names:**\n",
      "\n",
      "1. Liam\n",
      "2. Noah\n",
      "3. Ethan\n",
      "4. Lucas\n",
      "5. Mason\n",
      "6. Logan\n",
      "7. Oliver\n",
      "8. Benjamin\n",
      "9. Caleb\n",
      "10. Alexander\n",
      "\n",
      "**Unique Boy Names:**\n",
      "\n",
      "1. Atticus\n",
      "2. Sage\n",
      "3. Kaius\n",
      "4. Beckett\n",
      "5. Caspian\n",
      "6. Orion\n",
      "7. Rowan\n",
      "8. Gideon\n",
      "9. Maverick\n",
      "10. Wilder\n",
      "\n",
      "**Nature-Inspired Boy Names:**\n",
      "\n",
      "1. River\n",
      "2. Oakley\n",
      "3. Hunter\n",
      "4. Forest\n",
      "5. Sawyer\n",
      "6. August\n",
      "7. Phoenix\n",
      "8. Aspen\n",
      "9. Canyon\n",
      "10. Storm\n",
      "\n",
      "Let me know if you have any specific preferences (e.g., meaning, initials, length), and I can give you more tailored suggestions!\n",
      "Bot:  One of the most famous statues in the United States is:\n",
      "\n",
      "**The Statue of Liberty**\n",
      "\n",
      "Located on Liberty Island in New York Harbor, the Statue of Liberty was a gift from France to the United States and was dedicated on October 28, 1886. It was designed by French sculptor Frédéric Auguste Bartholdi and built by Gustave Eiffel.\n",
      "\n",
      "The statue depicts Libertas, the Roman goddess of freedom, holding a torch above her head with her right hand and a tablet inscribed with the date of the American Declaration of Independence in her left hand. The statue has become an iconic symbol of freedom, democracy, and opportunity for millions of people around the world.\n",
      "\n",
      "Would you like to know more about this incredible piece of history?\n"
     ]
    }
   ],
   "source": [
    "state = None\n",
    "while True:\n",
    "    in_message = input(\"You: \")\n",
    "    if in_message.lower() in ['exit', 'quit']:\n",
    "        break\n",
    "    if state is None:\n",
    "        state : State = {\n",
    "            'messages': [{'role':'user', 'content': in_message}]}\n",
    "    else:\n",
    "        state['messages'].append({'role':'user','content':in_message})\n",
    "    state = graph.invoke(state)\n",
    "    print('Bot: ',state['messages'][-1].content)\n"
   ]
  }
 ],
 "metadata": {
  "kernelspec": {
   "display_name": ".venv",
   "language": "python",
   "name": "python3"
  },
  "language_info": {
   "codemirror_mode": {
    "name": "ipython",
    "version": 3
   },
   "file_extension": ".py",
   "mimetype": "text/x-python",
   "name": "python",
   "nbconvert_exporter": "python",
   "pygments_lexer": "ipython3",
   "version": "3.11.9"
  }
 },
 "nbformat": 4,
 "nbformat_minor": 5
}
